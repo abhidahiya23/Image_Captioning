{
 "cells": [
  {
   "cell_type": "code",
   "execution_count": 1,
   "metadata": {},
   "outputs": [],
   "source": [
    "import pandas as pd\n",
    "import numpy as np"
   ]
  },
  {
   "cell_type": "code",
   "execution_count": 2,
   "metadata": {},
   "outputs": [],
   "source": [
    "f = open(\"./Flickr8k_text/Flickr_8k.trainImages.txt\",'r')\n",
    "train_img= f.readlines()\n",
    "f.close()\n",
    "\n",
    "f = open(\"./Flickr8k_text/Flickr8k.token.txt\",'r')\n",
    "capt = f.readlines()\n",
    "f.close()\n"
   ]
  },
  {
   "cell_type": "code",
   "execution_count": 3,
   "metadata": {},
   "outputs": [
    {
     "name": "stdout",
     "output_type": "stream",
     "text": [
      "(6000, 40460, <type 'list'>, <type 'list'>)\n"
     ]
    }
   ],
   "source": [
    "print(len(train_img),len(capt),type(train_img),type(capt))"
   ]
  },
  {
   "cell_type": "code",
   "execution_count": 4,
   "metadata": {},
   "outputs": [
    {
     "name": "stdout",
     "output_type": "stream",
     "text": [
      "['1000268201_693b08cb0e.jpg#0', 'A child in a pink dress is climbing up a set of stairs in an entry way .\\n']\n",
      "['1000268201_693b08cb0e.jpg#1', 'A girl going into a wooden building .\\n']\n",
      "['1000268201_693b08cb0e.jpg#2', 'A little girl climbing into a wooden playhouse .\\n']\n",
      "['1000268201_693b08cb0e.jpg#3', 'A little girl climbing the stairs to her playhouse .\\n']\n",
      "['1000268201_693b08cb0e.jpg#4', 'A little girl in a pink dress going into a wooden cabin .\\n']\n"
     ]
    }
   ],
   "source": [
    "for ix in range(len(capt)):\n",
    "    capt[ix] = capt[ix].split('\\t')\n",
    "for ix in range(5):\n",
    "    print capt[ix]"
   ]
  },
  {
   "cell_type": "code",
   "execution_count": 5,
   "metadata": {},
   "outputs": [],
   "source": [
    "#print(train_img)"
   ]
  },
  {
   "cell_type": "code",
   "execution_count": 6,
   "metadata": {},
   "outputs": [],
   "source": [
    "dic = {}\n",
    "\n",
    "for jx in capt:\n",
    "    img = jx[0][:-2]\n",
    "    cap = jx[1][:-1]\n",
    "    a = \"<start> \" + cap + \" <end>\"\n",
    "    if dic.get(img) is None:\n",
    "        dic[img]=[a]\n",
    "    else:\n",
    "        dic[img].append(a)\n"
   ]
  },
  {
   "cell_type": "code",
   "execution_count": 7,
   "metadata": {},
   "outputs": [
    {
     "data": {
      "text/plain": [
       "['<start> A black dog is running after a white dog in the snow . <end>',\n",
       " '<start> Black dog chasing brown dog through snow <end>',\n",
       " '<start> Two dogs chase each other across the snowy ground . <end>',\n",
       " '<start> Two dogs play together in the snow . <end>',\n",
       " '<start> Two dogs running through a low lying body of water . <end>']"
      ]
     },
     "execution_count": 7,
     "metadata": {},
     "output_type": "execute_result"
    }
   ],
   "source": [
    "dic[train_img[0][:-1]]"
   ]
  },
  {
   "cell_type": "code",
   "execution_count": 8,
   "metadata": {},
   "outputs": [],
   "source": [
    "f = open('./Flickr8k_Dataset/1_train.txt','wb')\n",
    "f.write(\"img_name\\t\\tcaption\\n\")"
   ]
  },
  {
   "cell_type": "code",
   "execution_count": 9,
   "metadata": {},
   "outputs": [],
   "source": [
    "for jx in train_img:\n",
    "    img = jx[:-1]\n",
    "    for ix in dic[img]:\n",
    "        f.write( img + \"\\t\\t\" + ix + \"\\n\")"
   ]
  }
 ],
 "metadata": {
  "kernelspec": {
   "display_name": "Python 3",
   "language": "python",
   "name": "python3"
  },
  "language_info": {
   "codemirror_mode": {
    "name": "ipython",
    "version": 2
   },
   "file_extension": ".py",
   "mimetype": "text/x-python",
   "name": "python",
   "nbconvert_exporter": "python",
   "pygments_lexer": "ipython2",
   "version": "2.7.15+"
  }
 },
 "nbformat": 4,
 "nbformat_minor": 2
}
