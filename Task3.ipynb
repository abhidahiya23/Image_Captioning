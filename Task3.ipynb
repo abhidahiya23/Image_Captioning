{
 "cells": [
  {
   "cell_type": "code",
   "execution_count": 43,
   "metadata": {},
   "outputs": [],
   "source": [
    "import pandas as pd\n",
    "import numpy as np\n",
    "from keras_preprocessing import sequence"
   ]
  },
  {
   "cell_type": "code",
   "execution_count": 2,
   "metadata": {},
   "outputs": [],
   "source": [
    "data = pd.read_csv(\"./Flickr8k_text/flickr_8k_train_dataset.txt\",delimiter=\"\\t\")"
   ]
  },
  {
   "cell_type": "code",
   "execution_count": 42,
   "metadata": {},
   "outputs": [
    {
     "name": "stdout",
     "output_type": "stream",
     "text": [
      "(30000,)\n"
     ]
    },
    {
     "data": {
      "text/plain": [
       "0        <start> A black dog is running after a white d...\n",
       "1        <start> Black dog chasing brown dog through sn...\n",
       "2        <start> Two dogs chase each other across the s...\n",
       "3        <start> Two dogs play together in the snow . <...\n",
       "4        <start> Two dogs running through a low lying b...\n",
       "5              <start> A little baby plays croquet . <end>\n",
       "6        <start> A little girl plays croquet next to a ...\n",
       "7        <start> The child is playing croquette by the ...\n",
       "8        <start> The kid is in front of a car with a pu...\n",
       "9        <start> The little boy is playing with a croqu...\n",
       "10       <start> A brown dog in the snow has something ...\n",
       "11       <start> A brown dog in the snow holding a pink...\n",
       "12       <start> A brown dog is holding a pink shirt in...\n",
       "13       <start> A dog is carrying something pink in it...\n",
       "14       <start> A dog with something pink in its mouth...\n",
       "15       <start> A brown dog is running along a beach ....\n",
       "16       <start> A brown dog wearing a black collar run...\n",
       "17       <start> A dog walks on the sand near the water...\n",
       "18          <start> Brown dog running on the beach . <end>\n",
       "19       <start> The large brown dog is running on the ...\n",
       "20       <start> A black and white dog with a red Frisb...\n",
       "21       <start> A dog drops a red disc on a beach . <end>\n",
       "22       <start> A dog with a red Frisbee flying in the...\n",
       "23              <start> Dog catching a red Frisbee . <end>\n",
       "24       <start> The black dog is dropping a red disc o...\n",
       "25       <start> A cyclist wearing a red helmet is ridi...\n",
       "26       <start> A girl is riding a bike on the street ...\n",
       "27       <start> A person on a bike wearing a red helme...\n",
       "28       <start> A woman wears a red helmet and blue sh...\n",
       "29       <start> Person in blue shirt and red helmet ri...\n",
       "                               ...                        \n",
       "29970    <start> A black dog in a grassy field fetching...\n",
       "29971    <start> A black dog is running through long gr...\n",
       "29972        <start> A dog catching a toy in a field <end>\n",
       "29973    <start> Black retriever plays with a multi-col...\n",
       "29974    <start> The black dog catches a toy in its mou...\n",
       "29975    <start> A man dressed in gray gear , including...\n",
       "29976    <start> A man in a black uniform and helmet di...\n",
       "29977               <start> A man riding a dirt bike <end>\n",
       "29978    <start> A motorcycle racer is in action at the...\n",
       "29979    <start> Biker riding dirt bike on dirt track <...\n",
       "29980    <start> A baby is trying to eat a large red pl...\n",
       "29981    <start> A blonde infant chewing on a red toy ....\n",
       "29982    <start> A blonde toddler placing his mouth on ...\n",
       "29983    <start> A child plays with a toy in the grass ...\n",
       "29984    <start> A child with his mouth on a red plasti...\n",
       "29985    <start> A hiker treks up the snowy mountain . ...\n",
       "29986      <start> A man climbing a snowy mountain . <end>\n",
       "29987          <start> A man skiing in the mountains <end>\n",
       "29988    <start> A mountaineer is ascending a snow cove...\n",
       "29989    <start> A person in a blue hat climbing up a s...\n",
       "29990    <start> A grandmother and a small child are si...\n",
       "29991    <start> an old lady and a child are sitting at...\n",
       "29992    <start> A young boy , a young girl , an older ...\n",
       "29993    <start> People are sitting at a green table se...\n",
       "29994    <start> Various members of a family are gather...\n",
       "29995    <start> A little girl in a bathing suit leaps ...\n",
       "29996    <start> A little girl wearing a black tankini ...\n",
       "29997    <start> A young girl in a swimming suit jumps ...\n",
       "29998    <start> A young girl jumping out of the water ...\n",
       "29999    <start> The girl in the bathing suit is poised...\n",
       "Name: captions, Length: 30000, dtype: object"
      ]
     },
     "execution_count": 42,
     "metadata": {},
     "output_type": "execute_result"
    }
   ],
   "source": [
    "capt = data['captions']\n",
    "print(capt.shape)\n",
    "capt"
   ]
  },
  {
   "cell_type": "code",
   "execution_count": 4,
   "metadata": {},
   "outputs": [],
   "source": [
    "words = []\n",
    "for jx in range(capt.shape[0]):\n",
    "    line = capt[jx]\n",
    "    line = line.split(\" \")\n",
    "    for ix in line:\n",
    "        words.append(ix)"
   ]
  },
  {
   "cell_type": "code",
   "execution_count": 5,
   "metadata": {
    "scrolled": true
   },
   "outputs": [
    {
     "data": {
      "text/plain": [
       "413388"
      ]
     },
     "execution_count": 5,
     "metadata": {},
     "output_type": "execute_result"
    }
   ],
   "source": [
    "len(words)"
   ]
  },
  {
   "cell_type": "code",
   "execution_count": 6,
   "metadata": {},
   "outputs": [],
   "source": [
    "u_words = np.unique(words)"
   ]
  },
  {
   "cell_type": "code",
   "execution_count": 7,
   "metadata": {},
   "outputs": [
    {
     "data": {
      "text/plain": [
       "8254"
      ]
     },
     "execution_count": 7,
     "metadata": {},
     "output_type": "execute_result"
    }
   ],
   "source": [
    "len(u_words)"
   ]
  },
  {
   "cell_type": "code",
   "execution_count": 8,
   "metadata": {},
   "outputs": [],
   "source": [
    "word2index = {u_word: key for (key,u_word) in enumerate(u_words)}\n",
    "index2word = {key: u_word for (key,u_word) in enumerate(u_words)}"
   ]
  },
  {
   "cell_type": "code",
   "execution_count": 9,
   "metadata": {},
   "outputs": [],
   "source": [
    "word2index['UNK'] = 0\n",
    "word2index[' '] = 8254\n",
    "\n",
    "index2word[0] = 'UNK'\n",
    "index2word[8254] = ' '"
   ]
  },
  {
   "cell_type": "code",
   "execution_count": 10,
   "metadata": {},
   "outputs": [
    {
     "name": "stdout",
     "output_type": "stream",
     "text": [
      "40\n"
     ]
    }
   ],
   "source": [
    "# Max Length of a sentence\n",
    "max_length = 0\n",
    "for jx in range(capt.shape[0]):\n",
    "    line = capt[jx]\n",
    "    line = line.split(\" \")\n",
    "    max_length = max(max_length,len(line))\n",
    "print(max_length)"
   ]
  },
  {
   "cell_type": "code",
   "execution_count": 44,
   "metadata": {},
   "outputs": [],
   "source": [
    "list_sentences = []\n",
    "for jx in range(capt.shape[0]):\n",
    "    curr_seq = []\n",
    "    next_seq = []\n",
    "    line = capt[jx]\n",
    "    line = line.split(\" \")\n",
    "    line = [word2index[ix] for ix in line]\n",
    "    for i in range(1,len(line)):\n",
    "        curr_seq.append(line[:i])\n",
    "        next_seq.append(line[i])\n",
    "    pad_curr_seq = sequence.pad_sequences(curr_seq,maxlen=max_length,padding='post',value=0)\n",
    "#list_sentences   = np.asarray(list_sentences)  "
   ]
  },
  {
   "cell_type": "code",
   "execution_count": 47,
   "metadata": {},
   "outputs": [
    {
     "name": "stdout",
     "output_type": "stream",
     "text": [
      "[[  57    0    0    0    0    0    0    0    0    0    0    0    0    0\n",
      "     0    0    0    0    0    0    0    0    0    0    0    0    0    0\n",
      "     0    0    0    0    0    0    0    0    0    0    0    0]\n",
      " [  57  848    0    0    0    0    0    0    0    0    0    0    0    0\n",
      "     0    0    0    0    0    0    0    0    0    0    0    0    0    0\n",
      "     0    0    0    0    0    0    0    0    0    0    0    0]\n",
      " [  57  848 3609    0    0    0    0    0    0    0    0    0    0    0\n",
      "     0    0    0    0    0    0    0    0    0    0    0    0    0    0\n",
      "     0    0    0    0    0    0    0    0    0    0    0    0]\n",
      " [  57  848 3609 4144    0    0    0    0    0    0    0    0    0    0\n",
      "     0    0    0    0    0    0    0    0    0    0    0    0    0    0\n",
      "     0    0    0    0    0    0    0    0    0    0    0    0]\n",
      " [  57  848 3609 4144 7454    0    0    0    0    0    0    0    0    0\n",
      "     0    0    0    0    0    0    0    0    0    0    0    0    0    0\n",
      "     0    0    0    0    0    0    0    0    0    0    0    0]\n",
      " [  57  848 3609 4144 7454 1416    0    0    0    0    0    0    0    0\n",
      "     0    0    0    0    0    0    0    0    0    0    0    0    0    0\n",
      "     0    0    0    0    0    0    0    0    0    0    0    0]\n",
      " [  57  848 3609 4144 7454 1416 7204    0    0    0    0    0    0    0\n",
      "     0    0    0    0    0    0    0    0    0    0    0    0    0    0\n",
      "     0    0    0    0    0    0    0    0    0    0    0    0]\n",
      " [  57  848 3609 4144 7454 1416 7204 4221    0    0    0    0    0    0\n",
      "     0    0    0    0    0    0    0    0    0    0    0    0    0    0\n",
      "     0    0    0    0    0    0    0    0    0    0    0    0]\n",
      " [  57  848 3609 4144 7454 1416 7204 4221 5647    0    0    0    0    0\n",
      "     0    0    0    0    0    0    0    0    0    0    0    0    0    0\n",
      "     0    0    0    0    0    0    0    0    0    0    0    0]\n",
      " [  57  848 3609 4144 7454 1416 7204 4221 5647 4144    0    0    0    0\n",
      "     0    0    0    0    0    0    0    0    0    0    0    0    0    0\n",
      "     0    0    0    0    0    0    0    0    0    0    0    0]\n",
      " [  57  848 3609 4144 7454 1416 7204 4221 5647 4144 4812    0    0    0\n",
      "     0    0    0    0    0    0    0    0    0    0    0    0    0    0\n",
      "     0    0    0    0    0    0    0    0    0    0    0    0]\n",
      " [  57  848 3609 4144 7454 1416 7204 4221 5647 4144 4812 5054    0    0\n",
      "     0    0    0    0    0    0    0    0    0    0    0    0    0    0\n",
      "     0    0    0    0    0    0    0    0    0    0    0    0]\n",
      " [  57  848 3609 4144 7454 1416 7204 4221 5647 4144 4812 5054 7534    0\n",
      "     0    0    0    0    0    0    0    0    0    0    0    0    0    0\n",
      "     0    0    0    0    0    0    0    0    0    0    0    0]\n",
      " [  57  848 3609 4144 7454 1416 7204 4221 5647 4144 4812 5054 7534 7454\n",
      "     0    0    0    0    0    0    0    0    0    0    0    0    0    0\n",
      "     0    0    0    0    0    0    0    0    0    0    0    0]\n",
      " [  57  848 3609 4144 7454 1416 7204 4221 5647 4144 4812 5054 7534 7454\n",
      "  1609    0    0    0    0    0    0    0    0    0    0    0    0    0\n",
      "     0    0    0    0    0    0    0    0    0    0    0    0]\n",
      " [  57  848 3609 4144 7454 1416 7204 4221 5647 4144 4812 5054 7534 7454\n",
      "  1609 7975    0    0    0    0    0    0    0    0    0    0    0    0\n",
      "     0    0    0    0    0    0    0    0    0    0    0    0]\n",
      " [  57  848 3609 4144 7454 1416 7204 4221 5647 4144 4812 5054 7534 7454\n",
      "  1609 7975   14    0    0    0    0    0    0    0    0    0    0    0\n",
      "     0    0    0    0    0    0    0    0    0    0    0    0]]\n"
     ]
    }
   ],
   "source": [
    "print(pad_curr_seq)\n",
    "    #print(next_seq[ix])"
   ]
  },
  {
   "cell_type": "code",
   "execution_count": null,
   "metadata": {},
   "outputs": [],
   "source": []
  }
 ],
 "metadata": {
  "kernelspec": {
   "display_name": "Python 3",
   "language": "python",
   "name": "python3"
  },
  "language_info": {
   "codemirror_mode": {
    "name": "ipython",
    "version": 2
   },
   "file_extension": ".py",
   "mimetype": "text/x-python",
   "name": "python",
   "nbconvert_exporter": "python",
   "pygments_lexer": "ipython2",
   "version": "2.7.15+"
  }
 },
 "nbformat": 4,
 "nbformat_minor": 2
}
